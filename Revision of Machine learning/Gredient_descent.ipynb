{
 "cells": [
  {
   "cell_type": "code",
   "execution_count": 1,
   "id": "4905e1fc",
   "metadata": {},
   "outputs": [],
   "source": [
    "from sklearn.datasets import make_regression\n",
    "import matplotlib.pyplot as plt\n",
    "import numpy as np\n",
    "from sklearn.model_selection import cross_val_score"
   ]
  },
  {
   "cell_type": "code",
   "execution_count": 12,
   "id": "e05c617a",
   "metadata": {},
   "outputs": [],
   "source": [
    "x,y=make_regression(n_samples = 100, n_features=1,n_informative=1, n_targets=1,noise =20,random_state=100)"
   ]
  },
  {
   "cell_type": "code",
   "execution_count": 13,
   "id": "9475eb43",
   "metadata": {},
   "outputs": [
    {
     "data": {
      "text/plain": [
       "array([  16.17455106,  -65.99689513,  -70.30733688,   41.82369722,\n",
       "        -65.05040992,    3.75629855,   14.18265649,   85.16039604,\n",
       "        -77.87489484,  -47.70834421,   -1.5768673 ,   11.86293956,\n",
       "         28.42189884,   22.22652467,   60.87872187,  -16.46924545,\n",
       "         -9.71085536,  -43.64280573,   19.54851625,   27.61848301,\n",
       "        -53.49177999,  -36.03814822,   68.72091451,  -11.23711865,\n",
       "        -31.15881515,   51.81104641,   25.66468012,   24.10877557,\n",
       "        -26.7068129 ,  -17.71276978,   -2.61009267,   64.83056997,\n",
       "        -46.76123805,  -34.32752593,  -56.6028199 ,   25.81012555,\n",
       "        -17.76268419,  -28.28418851,  -46.80541752,   -3.23639945,\n",
       "        -45.24685682,   24.91131674,  -42.98707542,  -23.97464616,\n",
       "        -23.6121349 ,    7.778906  ,   -6.89120226,   24.08639277,\n",
       "         45.3609846 ,  -30.61058038,  -70.46782756,   59.30658971,\n",
       "         35.96413285,  -75.88148886,  -60.37261863,  -43.14666182,\n",
       "         49.41832149,  -81.97412361,   50.61858053,  -63.65350812,\n",
       "         65.3382001 ,   34.47823155,  -45.52058688,  -36.25320093,\n",
       "         39.72754213,   77.9659272 ,  -20.50379797,  -39.44746161,\n",
       "        -48.11713869,  -22.26303256,    0.33321382,  -14.83782266,\n",
       "        -28.74362159,   37.19381021,   -3.44380684,  -39.44926784,\n",
       "         -7.7548879 ,   29.1435665 ,   54.02478967,   -1.7367732 ,\n",
       "        -41.76948265,   57.69790218,   56.04421869,   73.78949654,\n",
       "        -18.2568548 ,  -48.12328295,   25.44107222,   -6.66028036,\n",
       "        -10.38903582,  -79.98853069,  -83.86423568,  -40.20219768,\n",
       "        -25.21671152,  -12.48721031,   95.92594621,   21.35463809,\n",
       "         91.7282326 , -109.56386396,   35.184143  ,   -5.8703185 ])"
      ]
     },
     "execution_count": 13,
     "metadata": {},
     "output_type": "execute_result"
    }
   ],
   "source": [
    "y"
   ]
  },
  {
   "cell_type": "code",
   "execution_count": 14,
   "id": "f327c9be",
   "metadata": {},
   "outputs": [
    {
     "data": {
      "text/plain": [
       "<matplotlib.collections.PathCollection at 0x13b1d141300>"
      ]
     },
     "execution_count": 14,
     "metadata": {},
     "output_type": "execute_result"
    },
    {
     "data": {
      "image/png": "[encoded data removed]",
      "text/plain": [
       "<Figure size 640x480 with 1 Axes>"
      ]
     },
     "metadata": {},
     "output_type": "display_data"
    }
   ],
   "source": [
    "plt.scatter(x,y)"
   ]
  },
  {
   "cell_type": "code",
   "execution_count": 15,
   "id": "d6d8f6b2",
   "metadata": {},
   "outputs": [],
   "source": [
    "from sklearn.model_selection import train_test_split\n",
    "x_train,x_test,y_train,y_test = train_test_split(x,y,test_size=0.2,random_state=2)"
   ]
  },
  {
   "cell_type": "code",
   "execution_count": 16,
   "id": "ba517d10",
   "metadata": {},
   "outputs": [],
   "source": [
    "from sklearn.linear_model import LinearRegression\n",
    "lr = LinearRegression()"
   ]
  },
  {
   "cell_type": "code",
   "execution_count": 17,
   "id": "aa7cc22c",
   "metadata": {},
   "outputs": [
    {
     "name": "stdout",
     "output_type": "stream",
     "text": [
      "[40.87653811]\n",
      "-1.0888963801305795\n"
     ]
    }
   ],
   "source": [
    "lr.fit(x_train,y_train)\n",
    "print(lr.coef_)\n",
    "print(lr.intercept_)"
   ]
  },
  {
   "cell_type": "code",
   "execution_count": 19,
   "id": "4c64e34e",
   "metadata": {},
   "outputs": [
    {
     "data": {
      "text/plain": [
       "0.5254077163139013"
      ]
     },
     "execution_count": 19,
     "metadata": {},
     "output_type": "execute_result"
    }
   ],
   "source": [
    "y_pred = lr.predict(x_test)\n",
    "from sklearn.metrics import r2_score\n",
    "r2_score(y_test,y_pred)"
   ]
  },
  {
   "cell_type": "code",
   "execution_count": 24,
   "id": "11444f3d",
   "metadata": {},
   "outputs": [],
   "source": [
    "class GradientDecent:\n",
    "    \n",
    "    def __init__(self,learning_rate,epochs):\n",
    "        self.m = 100\n",
    "        self.b = -120\n",
    "        self.lr = learning_rate\n",
    "        self.epochs = epochs\n",
    "        \n",
    "    def fit(self,x,y):\n",
    "        for i in range(self.epochs):\n",
    "            loss_slope_b = -2 * np.sum(y - self.m*x.ravel() - self.b)\n",
    "            loss_slope_m = -2 * np.sum((y - self.m*x.ravel() -self.b)*x.ravel())\n",
    "            \n",
    "            self.b = self.b - (self.lr * loss_slope_b)\n",
    "            self.m = self.m - (self.lr * loss_slope_m)\n",
    "        print(self.m,self.b)\n",
    "    def predict(self,x):\n",
    "        return self.m * x + self.b"
   ]
  },
  {
   "cell_type": "code",
   "execution_count": 38,
   "id": "c0ff7784",
   "metadata": {},
   "outputs": [],
   "source": [
    "gd = GradientDecent(0.001,100)"
   ]
  },
  {
   "cell_type": "code",
   "execution_count": 39,
   "id": "e7f59c54",
   "metadata": {},
   "outputs": [
    {
     "name": "stdout",
     "output_type": "stream",
     "text": [
      "40.87653097993353 -1.0889062186812228\n"
     ]
    }
   ],
   "source": [
    "gd.fit(x_train,y_train)"
   ]
  },
  {
   "cell_type": "code",
   "execution_count": null,
   "id": "b2af5ea2",
   "metadata": {},
   "outputs": [],
   "source": []
  },
  {
   "cell_type": "code",
   "execution_count": null,
   "id": "752fd086",
   "metadata": {},
   "outputs": [],
   "source": []
  },
  {
   "cell_type": "code",
   "execution_count": 20,
   "id": "1d5e0d04",
   "metadata": {},
   "outputs": [
    {
     "data": {
      "text/plain": [
       "array([-0.37690335, -1.1994512 , -1.74976547,  0.98132079, -1.70595201,\n",
       "        0.00301743,  0.02828363,  1.24946974, -1.6355294 , -0.58359505,\n",
       "       -0.18949583,  0.7788224 ,  0.05567601,  0.23784462,  0.67272081,\n",
       "        0.00731456, -0.54974619, -0.45802699,  0.51421884,  0.75044476,\n",
       "       -1.43219061, -0.10441114,  0.73620521, -0.57882582, -0.25187914,\n",
       "        0.25500144, -0.18501411,  0.43516349,  0.10886347,  0.68689007,\n",
       "        0.18451869,  1.36155613, -1.73309562, -0.88973148, -1.23243451,\n",
       "        0.35750775, -0.82793236, -0.54443916, -0.84243574,  0.61303888,\n",
       "       -0.68921798,  1.61898166, -0.75635231, -1.04420988, -0.53128038,\n",
       "       -0.07602347,  0.00395759,  0.81684707,  1.54160517,  0.3426804 ,\n",
       "       -1.6135785 ,  1.02692144,  0.90497412, -1.07004333, -1.56668753,\n",
       "       -1.69061683,  1.18962227, -1.8411883 ,  1.29974807, -1.35639905,\n",
       "        2.03460756,  0.22239961, -0.61293874, -0.33177714,  0.81645401,\n",
       "        1.02973269, -0.55071441, -1.10452309, -0.86222735,  0.9370822 ,\n",
       "        0.01354855,  0.50780959,  0.69012147,  0.36916396, -0.43813562,\n",
       "       -0.88179839,  0.01863895,  1.1530358 ,  0.75045333, -0.07961125,\n",
       "       -1.30699234,  0.42823287,  1.47071387,  0.36609323, -0.9833101 ,\n",
       "       -1.1880176 ,  0.58057334, -0.66817174, -0.94004616, -1.11831825,\n",
       "       -1.443217  , -0.45594693, -0.32623806, -0.25243604,  1.83193608,\n",
       "        0.22117967,  1.87657343, -2.48715154,  0.73100034,  0.10887199])"
      ]
     },
     "execution_count": 20,
     "metadata": {},
     "output_type": "execute_result"
    }
   ],
   "source": [
    "x.ravel()"
   ]
  },
  {
   "cell_type": "code",
   "execution_count": null,
   "id": "3e4d2371",
   "metadata": {},
   "outputs": [],
   "source": []
  }
 ],
 "metadata": {
  "kernelspec": {
   "display_name": "Python 3 (ipykernel)",
   "language": "python",
   "name": "python3"
  },
  "language_info": {
   "codemirror_mode": {
    "name": "ipython",
    "version": 3
   },
   "file_extension": ".py",
   "mimetype": "text/x-python",
   "name": "python",
   "nbconvert_exporter": "python",
   "pygments_lexer": "ipython3",
   "version": "3.10.9"
  }
 },
 "nbformat": 4,
 "nbformat_minor": 5
}
