{
 "cells": [
  {
   "cell_type": "code",
   "execution_count": 1,
   "id": "8f623ec6",
   "metadata": {},
   "outputs": [],
   "source": [
    "from sklearn.datasets import load_diabetes \n",
    "import numpy as np \n",
    "from sklearn.linear_model import LinearRegression \n",
    "from sklearn.metrics import r2_score \n",
    "from sklearn.model_selection import train_test_split "
   ]
  },
  {
   "cell_type": "code",
   "execution_count": 4,
   "id": "d157f8d8",
   "metadata": {},
   "outputs": [
    {
     "name": "stdout",
     "output_type": "stream",
     "text": [
      "(442, 10)\n",
      "(442,)\n",
      "[[ 0.03807591  0.05068012  0.06169621 ... -0.00259226  0.01990749\n",
      "  -0.01764613]\n",
      " [-0.00188202 -0.04464164 -0.05147406 ... -0.03949338 -0.06833155\n",
      "  -0.09220405]\n",
      " [ 0.08529891  0.05068012  0.04445121 ... -0.00259226  0.00286131\n",
      "  -0.02593034]\n",
      " ...\n",
      " [ 0.04170844  0.05068012 -0.01590626 ... -0.01107952 -0.04688253\n",
      "   0.01549073]\n",
      " [-0.04547248 -0.04464164  0.03906215 ...  0.02655962  0.04452873\n",
      "  -0.02593034]\n",
      " [-0.04547248 -0.04464164 -0.0730303  ... -0.03949338 -0.00422151\n",
      "   0.00306441]] [151.  75. 141. 206. 135.  97. 138.  63. 110. 310. 101.  69. 179. 185.\n",
      " 118. 171. 166. 144.  97. 168.  68.  49.  68. 245. 184. 202. 137.  85.\n",
      " 131. 283. 129.  59. 341.  87.  65. 102. 265. 276. 252.  90. 100.  55.\n",
      "  61.  92. 259.  53. 190. 142.  75. 142. 155. 225.  59. 104. 182. 128.\n",
      "  52.  37. 170. 170.  61. 144.  52. 128.  71. 163. 150.  97. 160. 178.\n",
      "  48. 270. 202. 111.  85.  42. 170. 200. 252. 113. 143.  51.  52. 210.\n",
      "  65. 141.  55. 134.  42. 111.  98. 164.  48.  96.  90. 162. 150. 279.\n",
      "  92.  83. 128. 102. 302. 198.  95.  53. 134. 144. 232.  81. 104.  59.\n",
      " 246. 297. 258. 229. 275. 281. 179. 200. 200. 173. 180.  84. 121. 161.\n",
      "  99. 109. 115. 268. 274. 158. 107.  83. 103. 272.  85. 280. 336. 281.\n",
      " 118. 317. 235.  60. 174. 259. 178. 128.  96. 126. 288.  88. 292.  71.\n",
      " 197. 186.  25.  84.  96. 195.  53. 217. 172. 131. 214.  59.  70. 220.\n",
      " 268. 152.  47.  74. 295. 101. 151. 127. 237. 225.  81. 151. 107.  64.\n",
      " 138. 185. 265. 101. 137. 143. 141.  79. 292. 178.  91. 116.  86. 122.\n",
      "  72. 129. 142.  90. 158.  39. 196. 222. 277.  99. 196. 202. 155.  77.\n",
      " 191.  70.  73.  49.  65. 263. 248. 296. 214. 185.  78.  93. 252. 150.\n",
      "  77. 208.  77. 108. 160.  53. 220. 154. 259.  90. 246. 124.  67.  72.\n",
      " 257. 262. 275. 177.  71.  47. 187. 125.  78.  51. 258. 215. 303. 243.\n",
      "  91. 150. 310. 153. 346.  63.  89.  50.  39. 103. 308. 116. 145.  74.\n",
      "  45. 115. 264.  87. 202. 127. 182. 241.  66.  94. 283.  64. 102. 200.\n",
      " 265.  94. 230. 181. 156. 233.  60. 219.  80.  68. 332. 248.  84. 200.\n",
      "  55.  85.  89.  31. 129.  83. 275.  65. 198. 236. 253. 124.  44. 172.\n",
      " 114. 142. 109. 180. 144. 163. 147.  97. 220. 190. 109. 191. 122. 230.\n",
      " 242. 248. 249. 192. 131. 237.  78. 135. 244. 199. 270. 164.  72.  96.\n",
      " 306.  91. 214.  95. 216. 263. 178. 113. 200. 139. 139.  88. 148.  88.\n",
      " 243.  71.  77. 109. 272.  60.  54. 221.  90. 311. 281. 182. 321.  58.\n",
      " 262. 206. 233. 242. 123. 167.  63. 197.  71. 168. 140. 217. 121. 235.\n",
      " 245.  40.  52. 104. 132.  88.  69. 219.  72. 201. 110.  51. 277.  63.\n",
      " 118.  69. 273. 258.  43. 198. 242. 232. 175.  93. 168. 275. 293. 281.\n",
      "  72. 140. 189. 181. 209. 136. 261. 113. 131. 174. 257.  55.  84.  42.\n",
      " 146. 212. 233.  91. 111. 152. 120.  67. 310.  94. 183.  66. 173.  72.\n",
      "  49.  64.  48. 178. 104. 132. 220.  57.]\n"
     ]
    }
   ],
   "source": [
    "X,y = load_diabetes(return_X_y = True) \n",
    "print(X.shape) \n",
    "print(y.shape)"
   ]
  },
  {
   "cell_type": "code",
   "execution_count": 3,
   "id": "13c55a90",
   "metadata": {},
   "outputs": [],
   "source": [
    "X_train , X_test , y_train , y_test = train_test_split(X,y,test_size = 0.2 , random_state = 42) "
   ]
  },
  {
   "cell_type": "code",
   "execution_count": 4,
   "id": "ad7174bd",
   "metadata": {},
   "outputs": [
    {
     "data": {
      "text/plain": [
       "LinearRegression()"
      ]
     },
     "execution_count": 4,
     "metadata": {},
     "output_type": "execute_result"
    }
   ],
   "source": [
    "reg = LinearRegression() \n",
    "reg.fit(X_train , y_train) "
   ]
  },
  {
   "cell_type": "code",
   "execution_count": 5,
   "id": "889aea15",
   "metadata": {},
   "outputs": [
    {
     "data": {
      "text/plain": [
       "0.45260660216173787"
      ]
     },
     "execution_count": 5,
     "metadata": {},
     "output_type": "execute_result"
    }
   ],
   "source": [
    "y_pred = reg.predict(X_test) \n",
    "r2_score(y_test , y_pred) "
   ]
  },
  {
   "cell_type": "code",
   "execution_count": 6,
   "id": "de8f8f9b",
   "metadata": {},
   "outputs": [],
   "source": [
    "# Now we create our own class \n",
    "\n",
    "class SGDRegressor :\n",
    "    \n",
    "    def __init__(self , learning_rate = 0.01 , epochs = 100):\n",
    "        self.coef_ = None \n",
    "        self.intercept_ = None \n",
    "        self.lr = learning_rate  \n",
    "        self.epochs = epochs \n",
    "        \n",
    "        \n",
    "    def fit(self , X_train , y_train):\n",
    "        #init our coefs \n",
    "        self.intercept_ = 0 \n",
    "        self.coef_ = np.ones(X_train.shape[1])\n",
    "        \n",
    "        for i in range(self.epochs):\n",
    "            for j in range(X_train.shape[0]):\n",
    "                idx = np.random.randint(0 , X_train.shape[0]) \n",
    "                \n",
    "                y_hat = np.dot(X_train[idx] , self.coef_) + self.intercept_\n",
    "                \n",
    "                intercept_der = -2*(y_train[idx] - y_hat) \n",
    "                self.intercept_ = self.intercept_ - (self.lr*intercept_der)\n",
    "                \n",
    "                coef_der = -2*np.dot((y_train[idx] - y_hat) , X_train[idx]) \n",
    "                self.coef_ = self.coef_ - (self.lr*coef_der) \n",
    "                \n",
    "            \n",
    "        print(self.intercept_ , self.coef_) \n",
    "        \n",
    "    def predict(self , X_test):\n",
    "        return np.dot(X_test , self.coef_) + self.intercept_\n",
    "        \n",
    "            \n",
    "         \n"
   ]
  },
  {
   "cell_type": "code",
   "execution_count": 7,
   "id": "da5f7fcc",
   "metadata": {},
   "outputs": [],
   "source": [
    "# np.random.randint(0,X_train.shape[0]) "
   ]
  },
  {
   "cell_type": "code",
   "execution_count": 8,
   "id": "5742064d",
   "metadata": {},
   "outputs": [],
   "source": [
    "# X_train[48]"
   ]
  },
  {
   "cell_type": "code",
   "execution_count": 9,
   "id": "bb4d6008",
   "metadata": {},
   "outputs": [],
   "source": [
    "# coef_ = np.ones(X_train.shape[1]) \n",
    "# coef_"
   ]
  },
  {
   "cell_type": "code",
   "execution_count": 10,
   "id": "18f43e5d",
   "metadata": {},
   "outputs": [],
   "source": [
    "# intercept_ = 0 "
   ]
  },
  {
   "cell_type": "code",
   "execution_count": 11,
   "id": "4a7b4195",
   "metadata": {},
   "outputs": [],
   "source": [
    "# np.dot(X_train[48] , coef_)+ intercept_"
   ]
  },
  {
   "cell_type": "code",
   "execution_count": 12,
   "id": "49d00d51",
   "metadata": {},
   "outputs": [],
   "source": [
    "sgd = SGDRegressor(learning_rate = 0.01 , epochs = 50)\n"
   ]
  },
  {
   "cell_type": "code",
   "execution_count": 13,
   "id": "b8720b4a",
   "metadata": {},
   "outputs": [
    {
     "name": "stdout",
     "output_type": "stream",
     "text": [
      "149.86755216194507 [  54.54317702  -95.53960876  365.11152223  253.70611402    1.27596117\n",
      "  -38.09874812 -178.18095259  149.02190811  284.26188684  151.56501547]\n"
     ]
    }
   ],
   "source": [
    "sgd.fit(X_train , y_train) "
   ]
  },
  {
   "cell_type": "code",
   "execution_count": 14,
   "id": "1fa44778",
   "metadata": {},
   "outputs": [],
   "source": [
    "y_pred = sgd.predict(X_test) "
   ]
  },
  {
   "cell_type": "code",
   "execution_count": 15,
   "id": "e9d0ee2c",
   "metadata": {},
   "outputs": [],
   "source": [
    "# y_pred"
   ]
  },
  {
   "cell_type": "code",
   "execution_count": 16,
   "id": "6e4996f7",
   "metadata": {},
   "outputs": [
    {
     "data": {
      "text/plain": [
       "0.4461173525847083"
      ]
     },
     "execution_count": 16,
     "metadata": {},
     "output_type": "execute_result"
    }
   ],
   "source": [
    "r2_score(y_test , y_pred) "
   ]
  },
  {
   "cell_type": "markdown",
   "id": "3e03221a",
   "metadata": {},
   "source": [
    "# By the help of sklearn SGDRegressor "
   ]
  },
  {
   "cell_type": "code",
   "execution_count": 17,
   "id": "69ccf5d4",
   "metadata": {},
   "outputs": [],
   "source": [
    "from sklearn.linear_model import SGDRegressor "
   ]
  },
  {
   "cell_type": "code",
   "execution_count": 26,
   "id": "9499e4af",
   "metadata": {},
   "outputs": [],
   "source": [
    "reg = SGDRegressor(max_iter=60 , learning_rate = 'constant' , eta0 = 0.01) \n"
   ]
  },
  {
   "cell_type": "code",
   "execution_count": 27,
   "id": "741300e4",
   "metadata": {},
   "outputs": [
    {
     "name": "stderr",
     "output_type": "stream",
     "text": [
      "C:\\Users\\saurabh\\anaconda3\\lib\\site-packages\\sklearn\\linear_model\\_stochastic_gradient.py:1503: ConvergenceWarning: Maximum number of iteration reached before convergence. Consider increasing max_iter to improve the fit.\n",
      "  warnings.warn(\n"
     ]
    },
    {
     "data": {
      "text/plain": [
       "SGDRegressor(learning_rate='constant', max_iter=60)"
      ]
     },
     "execution_count": 27,
     "metadata": {},
     "output_type": "execute_result"
    }
   ],
   "source": [
    "reg.fit(X_train , y_train) "
   ]
  },
  {
   "cell_type": "code",
   "execution_count": 28,
   "id": "b8d287df",
   "metadata": {},
   "outputs": [],
   "source": [
    "y_pred = reg.predict(X_test) \n"
   ]
  },
  {
   "cell_type": "code",
   "execution_count": 29,
   "id": "56566603",
   "metadata": {},
   "outputs": [
    {
     "data": {
      "text/plain": [
       "0.4201485135129174"
      ]
     },
     "execution_count": 29,
     "metadata": {},
     "output_type": "execute_result"
    }
   ],
   "source": [
    "r2_score(y_test , y_pred) \n"
   ]
  },
  {
   "cell_type": "code",
   "execution_count": null,
   "id": "2a0e8bd7",
   "metadata": {},
   "outputs": [],
   "source": []
  },
  {
   "cell_type": "code",
   "execution_count": null,
   "id": "130603df",
   "metadata": {},
   "outputs": [],
   "source": []
  }
 ],
 "metadata": {
  "kernelspec": {
   "display_name": "Python 3 (ipykernel)",
   "language": "python",
   "name": "python3"
  },
  "language_info": {
   "codemirror_mode": {
    "name": "ipython",
    "version": 3
   },
   "file_extension": ".py",
   "mimetype": "text/x-python",
   "name": "python",
   "nbconvert_exporter": "python",
   "pygments_lexer": "ipython3",
   "version": "3.10.9"
  }
 },
 "nbformat": 4,
 "nbformat_minor": 5
}
