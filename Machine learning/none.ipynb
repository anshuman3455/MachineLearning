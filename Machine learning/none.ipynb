{
 "cells": [
  {
   "cell_type": "code",
   "execution_count": null,
   "id": "bac820f9",
   "metadata": {},
   "outputs": [],
   "source": [
    "import numpy as np\n",
    "import pandas as pd"
   ]
  },
  {
   "cell_type": "code",
   "execution_count": null,
   "id": "6dc02b76",
   "metadata": {},
   "outputs": [],
   "source": [
    "df = pd.read_csv(\"C:\\\\Users\\\\user\\\\Downloads\\\\customer.csv\")"
   ]
  },
  {
   "cell_type": "code",
   "execution_count": null,
   "id": "dab51677",
   "metadata": {},
   "outputs": [],
   "source": [
    "df.head()"
   ]
  },
  {
   "cell_type": "code",
   "execution_count": null,
   "id": "be6b20f3",
   "metadata": {},
   "outputs": [],
   "source": [
    "df.columns"
   ]
  },
  {
   "cell_type": "code",
   "execution_count": null,
   "id": "0133ef82",
   "metadata": {},
   "outputs": [],
   "source": [
    "df.isnull().sum()"
   ]
  },
  {
   "cell_type": "code",
   "execution_count": null,
   "id": "2c739f09",
   "metadata": {},
   "outputs": [],
   "source": [
    "df.tail()"
   ]
  },
  {
   "cell_type": "code",
   "execution_count": null,
   "id": "78d67422",
   "metadata": {},
   "outputs": [],
   "source": [
    "df.empty"
   ]
  },
  {
   "cell_type": "code",
   "execution_count": null,
   "id": "b6dcdce0",
   "metadata": {},
   "outputs": [],
   "source": [
    "id(df)"
   ]
  },
  {
   "cell_type": "code",
   "execution_count": null,
   "id": "ed6ab6e9",
   "metadata": {},
   "outputs": [],
   "source": [
    "df2 = df\n",
    "id(df2)"
   ]
  },
  {
   "cell_type": "code",
   "execution_count": null,
   "id": "10ec0aed",
   "metadata": {},
   "outputs": [],
   "source": [
    "df2 = df2.drop(columns= ['gender', 'review'],axis =1)"
   ]
  },
  {
   "cell_type": "code",
   "execution_count": null,
   "id": "f21579f7",
   "metadata": {},
   "outputs": [],
   "source": [
    "print(id(df))\n",
    "print(id(df2))"
   ]
  },
  {
   "cell_type": "code",
   "execution_count": null,
   "id": "ea497fc2",
   "metadata": {},
   "outputs": [],
   "source": [
    "df2 = df2.drop(columns = 'age')"
   ]
  },
  {
   "cell_type": "code",
   "execution_count": null,
   "id": "155ed584",
   "metadata": {},
   "outputs": [],
   "source": [
    "df.head()"
   ]
  },
  {
   "cell_type": "code",
   "execution_count": null,
   "id": "d285ecf5",
   "metadata": {},
   "outputs": [],
   "source": [
    "df['reviewss']= df['education'].where(df['review']== 'Poor',other = 'no')"
   ]
  },
  {
   "cell_type": "code",
   "execution_count": null,
   "id": "4a07fe9d",
   "metadata": {},
   "outputs": [],
   "source": [
    "df"
   ]
  },
  {
   "cell_type": "code",
   "execution_count": null,
   "id": "6e052b95",
   "metadata": {},
   "outputs": [],
   "source": [
    "df.describe()"
   ]
  },
  {
   "cell_type": "code",
   "execution_count": null,
   "id": "7eb67bd2",
   "metadata": {},
   "outputs": [],
   "source": [
    "from sklearn.preprocessing import StandardScaler ,LabelEncoder\n",
    "from sklearn.model_selection import train_test_split"
   ]
  },
  {
   "cell_type": "code",
   "execution_count": null,
   "id": "13d3e51c",
   "metadata": {},
   "outputs": [],
   "source": [
    "df.head()"
   ]
  },
  {
   "cell_type": "code",
   "execution_count": null,
   "id": "b99e0bdf",
   "metadata": {},
   "outputs": [],
   "source": [
    "lb= LabelEncoder()\n",
    "df['gender']= lb.fit_transform(df['gender'])"
   ]
  },
  {
   "cell_type": "code",
   "execution_count": null,
   "id": "15464322",
   "metadata": {},
   "outputs": [],
   "source": [
    "df['review']= lb.fit_transform(df['review'])\n",
    "df['education'] = lb.fit_transform(df['education'])\n",
    "df['purchased'] = lb.fit_transform(df['purchased'])"
   ]
  },
  {
   "cell_type": "code",
   "execution_count": null,
   "id": "63d7ca5a",
   "metadata": {},
   "outputs": [],
   "source": [
    "df.head()"
   ]
  },
  {
   "cell_type": "code",
   "execution_count": null,
   "id": "4439b30d",
   "metadata": {},
   "outputs": [],
   "source": [
    "x = df.drop(columns = 'education')"
   ]
  },
  {
   "cell_type": "code",
   "execution_count": null,
   "id": "85b31ae0",
   "metadata": {},
   "outputs": [],
   "source": [
    "y = df['education']"
   ]
  },
  {
   "cell_type": "code",
   "execution_count": null,
   "id": "5864ab35",
   "metadata": {},
   "outputs": [],
   "source": [
    "x_train,x_test,y_train,y_test = train_test_split(x,y,test_size = 0.2 ,random_state=344)"
   ]
  },
  {
   "cell_type": "code",
   "execution_count": null,
   "id": "36e60c53",
   "metadata": {},
   "outputs": [],
   "source": [
    "sc = StandardScaler()"
   ]
  },
  {
   "cell_type": "code",
   "execution_count": null,
   "id": "f9c155f7",
   "metadata": {},
   "outputs": [],
   "source": [
    "a = sc.fit_transform(x_train)\n",
    "b  = sc.transform(x_test)"
   ]
  },
  {
   "cell_type": "code",
   "execution_count": null,
   "id": "50fe7fc8",
   "metadata": {},
   "outputs": [],
   "source": [
    "a = pd.DataFrame(a , columns = x_train.columns)"
   ]
  },
  {
   "cell_type": "code",
   "execution_count": null,
   "id": "cd220837",
   "metadata": {},
   "outputs": [],
   "source": [
    "np.round(a.describe(),3)"
   ]
  },
  {
   "cell_type": "code",
   "execution_count": null,
   "id": "8a7e386c",
   "metadata": {},
   "outputs": [],
   "source": [
    "import seaborn as sns\n",
    "import matplotlib.pyplot as plt"
   ]
  },
  {
   "cell_type": "code",
   "execution_count": null,
   "id": "b4863d05",
   "metadata": {},
   "outputs": [],
   "source": [
    "sns.countplot(x=df['gender'])"
   ]
  },
  {
   "cell_type": "code",
   "execution_count": null,
   "id": "e3d7eab3",
   "metadata": {},
   "outputs": [],
   "source": [
    "df['review'].value_counts().plot(kind = 'pie' ,autopct = '%.6f')"
   ]
  },
  {
   "cell_type": "code",
   "execution_count": null,
   "id": "a932b33b",
   "metadata": {},
   "outputs": [],
   "source": [
    "sns.distplot(df['purchased'])"
   ]
  },
  {
   "cell_type": "code",
   "execution_count": null,
   "id": "3c2a6623",
   "metadata": {},
   "outputs": [],
   "source": [
    "sns.scatterplot(x=df['age'],y=df['education'])"
   ]
  },
  {
   "cell_type": "code",
   "execution_count": null,
   "id": "a7e8ca57",
   "metadata": {},
   "outputs": [],
   "source": [
    "sns.pairplot(df)"
   ]
  },
  {
   "cell_type": "code",
   "execution_count": null,
   "id": "5e19fd20",
   "metadata": {},
   "outputs": [],
   "source": [
    "((df.groupby('age').mean()['education'])*100).plot(kind= 'bar')"
   ]
  },
  {
   "cell_type": "code",
   "execution_count": null,
   "id": "b7d77a77",
   "metadata": {},
   "outputs": [],
   "source": [
    "from sklearn.preprocessing import OneHotEncoder"
   ]
  },
  {
   "cell_type": "code",
   "execution_count": null,
   "id": "9d1c7fe7",
   "metadata": {},
   "outputs": [],
   "source": [
    "ohe = OneHotEncoder(sparse = False )"
   ]
  },
  {
   "cell_type": "code",
   "execution_count": null,
   "id": "b41a9b26",
   "metadata": {},
   "outputs": [],
   "source": [
    "dff = ohe.fit_transform(df[['gender','review','education','purchased']])"
   ]
  },
  {
   "cell_type": "code",
   "execution_count": null,
   "id": "736cf5db",
   "metadata": {},
   "outputs": [],
   "source": [
    "dff"
   ]
  },
  {
   "cell_type": "code",
   "execution_count": null,
   "id": "92dd7db4",
   "metadata": {},
   "outputs": [],
   "source": [
    "df"
   ]
  },
  {
   "cell_type": "code",
   "execution_count": null,
   "id": "60c4464c",
   "metadata": {},
   "outputs": [],
   "source": [
    "import pan"
   ]
  },
  {
   "cell_type": "code",
   "execution_count": null,
   "id": "ebc290cf",
   "metadata": {},
   "outputs": [],
   "source": [
    "from sklearn.preprocessing import FunctionTransformer"
   ]
  },
  {
   "cell_type": "code",
   "execution_count": null,
   "id": "c695bd56",
   "metadata": {},
   "outputs": [],
   "source": [
    "import pandas as pd\n",
    "import numpy as np"
   ]
  },
  {
   "cell_type": "code",
   "execution_count": null,
   "id": "8560a634",
   "metadata": {},
   "outputs": [],
   "source": [
    "x = np.array([[1,2],[3,4]])\n",
    "x"
   ]
  },
  {
   "cell_type": "code",
   "execution_count": null,
   "id": "92fda6ec",
   "metadata": {},
   "outputs": [],
   "source": [
    "fu = FunctionTransformer(b)\n",
    "fu"
   ]
  },
  {
   "cell_type": "code",
   "execution_count": null,
   "id": "d76a5b29",
   "metadata": {},
   "outputs": [],
   "source": [
    "a"
   ]
  },
  {
   "cell_type": "code",
   "execution_count": null,
   "id": "30f8a574",
   "metadata": {},
   "outputs": [],
   "source": [
    "    "
   ]
  },
  {
   "cell_type": "code",
   "execution_count": null,
   "id": "968efb85",
   "metadata": {},
   "outputs": [],
   "source": [
    "def root(x):\n",
    "    return (x,x**-1)"
   ]
  },
  {
   "cell_type": "code",
   "execution_count": null,
   "id": "b906d435",
   "metadata": {},
   "outputs": [],
   "source": [
    "x"
   ]
  },
  {
   "cell_type": "code",
   "execution_count": null,
   "id": "b789a30d",
   "metadata": {},
   "outputs": [],
   "source": [
    "fu.transform(x)"
   ]
  },
  {
   "cell_type": "code",
   "execution_count": null,
   "id": "8ee89549",
   "metadata": {},
   "outputs": [],
   "source": [
    "import pandas as pd\n",
    "import numpy as np"
   ]
  },
  {
   "cell_type": "code",
   "execution_count": null,
   "id": "67db6b79",
   "metadata": {},
   "outputs": [],
   "source": [
    "df = pd.read_csv(\"C:\\\\Users\\\\user\\\\Downloads\\\\covid_toy.csv\")"
   ]
  },
  {
   "cell_type": "code",
   "execution_count": null,
   "id": "acb9ad6b",
   "metadata": {},
   "outputs": [],
   "source": [
    "df.head()"
   ]
  },
  {
   "cell_type": "code",
   "execution_count": null,
   "id": "c3674468",
   "metadata": {},
   "outputs": [],
   "source": [
    "df.isnull().sum()"
   ]
  },
  {
   "cell_type": "code",
   "execution_count": null,
   "id": "d8f2cdcf",
   "metadata": {},
   "outputs": [],
   "source": [
    "from sklearn.impute import SimpleImputer\n",
    "from sklearn.model_selection import train_test_split"
   ]
  },
  {
   "cell_type": "code",
   "execution_count": null,
   "id": "1eae8de6",
   "metadata": {},
   "outputs": [],
   "source": [
    "x = df.drop(columns= 'has_covid')"
   ]
  },
  {
   "cell_type": "code",
   "execution_count": null,
   "id": "f0484d9a",
   "metadata": {},
   "outputs": [],
   "source": [
    "y = df['has_covid']"
   ]
  },
  {
   "cell_type": "code",
   "execution_count": null,
   "id": "899efce4",
   "metadata": {},
   "outputs": [],
   "source": [
    "x_train,x_test ,y_train,y_test = train_test_split(x,y,test_size=0.2 , random_state=33)"
   ]
  },
  {
   "cell_type": "code",
   "execution_count": null,
   "id": "d5a535c3",
   "metadata": {},
   "outputs": [],
   "source": [
    "x_train"
   ]
  },
  {
   "cell_type": "code",
   "execution_count": null,
   "id": "f6375645",
   "metadata": {},
   "outputs": [],
   "source": [
    "si = SimpleImputer()"
   ]
  },
  {
   "cell_type": "code",
   "execution_count": null,
   "id": "7b363a74",
   "metadata": {},
   "outputs": [],
   "source": [
    "x_train = si.fit_transform(x_train[['fever']])"
   ]
  },
  {
   "cell_type": "code",
   "execution_count": null,
   "id": "b22ddf51",
   "metadata": {},
   "outputs": [],
   "source": [
    "x_test = si.fit_transform(x_test[['fever']])"
   ]
  },
  {
   "cell_type": "code",
   "execution_count": null,
   "id": "73ebd872",
   "metadata": {},
   "outputs": [],
   "source": [
    "x_train"
   ]
  },
  {
   "cell_type": "code",
   "execution_count": null,
   "id": "47334c7f",
   "metadata": {},
   "outputs": [],
   "source": [
    "x_test"
   ]
  },
  {
   "cell_type": "code",
   "execution_count": null,
   "id": "b57c7aa7",
   "metadata": {},
   "outputs": [],
   "source": [
    "from sklearn.compose import ColumnTransformer\n",
    "from sklearn.preprocessing import OrdinalEncoder,OneHotEncoder"
   ]
  },
  {
   "cell_type": "code",
   "execution_count": null,
   "id": "af104232",
   "metadata": {},
   "outputs": [],
   "source": [
    "transfromer = ColumnTransformer(transformers=[\n",
    "        ('a',SimpleImputer(),['fever']),\n",
    "        ('b',OrdinalEncoder(categories = [['Mild','Strong']]),['cough']),\n",
    "        ('c',OneHotEncoder(drop= 'first',sparse = False), ['gender','city'])]\n",
    "         ,remainder='passthrough')"
   ]
  },
  {
   "cell_type": "code",
   "execution_count": null,
   "id": "b7736871",
   "metadata": {},
   "outputs": [],
   "source": [
    "transfromer"
   ]
  },
  {
   "cell_type": "code",
   "execution_count": null,
   "id": "7999aae3",
   "metadata": {},
   "outputs": [],
   "source": [
    "a= transfromer.fit_transform(x_train).shape"
   ]
  },
  {
   "cell_type": "code",
   "execution_count": null,
   "id": "5d4c296e",
   "metadata": {},
   "outputs": [],
   "source": [
    "a"
   ]
  },
  {
   "cell_type": "code",
   "execution_count": null,
   "id": "c4ecc236",
   "metadata": {},
   "outputs": [],
   "source": [
    "df\n"
   ]
  },
  {
   "cell_type": "code",
   "execution_count": null,
   "id": "b6fc8eda",
   "metadata": {},
   "outputs": [],
   "source": [
    "import seaborn as sns"
   ]
  },
  {
   "cell_type": "code",
   "execution_count": null,
   "id": "363417d4",
   "metadata": {},
   "outputs": [],
   "source": [
    "sns.distplot(df['age'])"
   ]
  },
  {
   "cell_type": "code",
   "execution_count": null,
   "id": "9cd13347",
   "metadata": {},
   "outputs": [],
   "source": [
    "from sklearn.preprocessing import PowerTransformer"
   ]
  },
  {
   "cell_type": "code",
   "execution_count": null,
   "id": "e3ee0c49",
   "metadata": {},
   "outputs": [],
   "source": [
    "pt = PowerTransformer(method = 'box-cox')\n",
    "a = df['age']"
   ]
  },
  {
   "cell_type": "code",
   "execution_count": null,
   "id": "b1a9d3ad",
   "metadata": {},
   "outputs": [],
   "source": [
    "a =np.array(a)\n",
    "a=a.reshape(100,1)\n",
    "a"
   ]
  },
  {
   "cell_type": "code",
   "execution_count": null,
   "id": "d344b99a",
   "metadata": {},
   "outputs": [],
   "source": [
    "b = pt.fit_transform(a)"
   ]
  },
  {
   "cell_type": "code",
   "execution_count": null,
   "id": "1f3f37b2",
   "metadata": {},
   "outputs": [],
   "source": [
    "sns.distplot(b)"
   ]
  },
  {
   "cell_type": "code",
   "execution_count": null,
   "id": "4c2c963b",
   "metadata": {
    "scrolled": true
   },
   "outputs": [],
   "source": [
    "b"
   ]
  },
  {
   "cell_type": "code",
   "execution_count": null,
   "id": "7cdabe9f",
   "metadata": {},
   "outputs": [],
   "source": [
    "from sklearn.pipeline import Pipeline\n",
    "from sklearn.preprocessing import StandardScaler\n",
    "from sklearn.decomposition import PCA\n",
    "from sklearn.ensemble import RandomForestClassifier"
   ]
  },
  {
   "cell_type": "code",
   "execution_count": null,
   "id": "b09d032a",
   "metadata": {},
   "outputs": [],
   "source": [
    "pi = Pipeline([\n",
    "    ('s',StandardScaler()),\n",
    "    ('p',PCA(n_components =4 )),\n",
    "    ('c',RandomForestClassifier(n_estimators = 100 ,random_state= 43))\n",
    "])"
   ]
  },
  {
   "cell_type": "code",
   "execution_count": null,
   "id": "41bff689",
   "metadata": {},
   "outputs": [],
   "source": [
    "pi"
   ]
  },
  {
   "cell_type": "code",
   "execution_count": null,
   "id": "55a234d3",
   "metadata": {},
   "outputs": [],
   "source": [
    "pi.fit(x_train,y_train)"
   ]
  },
  {
   "cell_type": "code",
   "execution_count": null,
   "id": "38180371",
   "metadata": {},
   "outputs": [],
   "source": [
    "x_train"
   ]
  },
  {
   "cell_type": "code",
   "execution_count": null,
   "id": "3736cd83",
   "metadata": {},
   "outputs": [],
   "source": [
    "from sklearn.datasets import make_regression\n",
    "import matplotlib.pyplot as plt\n",
    "import numpy as np"
   ]
  },
  {
   "cell_type": "code",
   "execution_count": null,
   "id": "509ea0c3",
   "metadata": {},
   "outputs": [],
   "source": [
    "x,y= make_regression(n_samples= 100 , n_features= 1 , n_informative= 1 , n_targets= 1, noise = 20 ,random_state=45)"
   ]
  },
  {
   "cell_type": "code",
   "execution_count": null,
   "id": "96fd006b",
   "metadata": {},
   "outputs": [],
   "source": [
    "plt.scatter(x,y)"
   ]
  },
  {
   "cell_type": "code",
   "execution_count": null,
   "id": "bc8c8fc2",
   "metadata": {},
   "outputs": [],
   "source": [
    "from sklearn.linear_model import LinearRegression"
   ]
  },
  {
   "cell_type": "code",
   "execution_count": null,
   "id": "b60be871",
   "metadata": {},
   "outputs": [],
   "source": [
    "lr = LinearRegression()"
   ]
  },
  {
   "cell_type": "code",
   "execution_count": null,
   "id": "85618e44",
   "metadata": {},
   "outputs": [],
   "source": [
    "lr.fit(x,y)"
   ]
  },
  {
   "cell_type": "code",
   "execution_count": null,
   "id": "3168ceae",
   "metadata": {},
   "outputs": [],
   "source": [
    "print(lr.coef_)\n",
    "print(lr.intercept_)"
   ]
  },
  {
   "cell_type": "code",
   "execution_count": null,
   "id": "de3df8d8",
   "metadata": {},
   "outputs": [],
   "source": [
    "from sklearn.model_selection import cross_val_score"
   ]
  },
  {
   "cell_type": "code",
   "execution_count": null,
   "id": "edd6f184",
   "metadata": {},
   "outputs": [],
   "source": [
    "np.mean(cross_val_score(lr,x,y,scoring = 'r2',cv =10))"
   ]
  },
  {
   "cell_type": "code",
   "execution_count": null,
   "id": "fffa2da3",
   "metadata": {},
   "outputs": [],
   "source": [
    "class GDReg:\n",
    "    def __init__ (self,learning_rate,epochs):\n",
    "        self.m = 1\n",
    "        self.b = 0\n",
    "        self.lr= learning_rate\n",
    "        self.epochs = epochs\n",
    "        \n",
    "    def fit(self, x,y):\n",
    "        for i in range(self.epochs):\n",
    "            loss_slope_b = -2* np.sum(y - self.m * x.ravel() - self.b)\n",
    "            loss_slope_m = -2 * np.sum((y - self.m* x.ravel() - self.b)*x.ravel())\n",
    "            \n",
    "            self.b = self.b- (self.lr *loss_slope_b)\n",
    "            self.m = self.m - (self.lr * loss_slope_m)\n",
    "        print(self.m,self.b)\n",
    "    def predict(self,x):\n",
    "        return self.m*x+self.b"
   ]
  },
  {
   "cell_type": "code",
   "execution_count": null,
   "id": "b10dd442",
   "metadata": {},
   "outputs": [],
   "source": [
    "from sklearn.datasets import make_regression"
   ]
  },
  {
   "cell_type": "code",
   "execution_count": null,
   "id": "13d64f8b",
   "metadata": {},
   "outputs": [],
   "source": [
    "import numpy as np"
   ]
  },
  {
   "cell_type": "code",
   "execution_count": null,
   "id": "c5318fee",
   "metadata": {},
   "outputs": [],
   "source": [
    "x,y = make_regression(n_samples= 4, n_features= 1 , n_informative = 1, n_targets=1 ,noise = 30 ,random_state= 15)"
   ]
  },
  {
   "cell_type": "code",
   "execution_count": null,
   "id": "670effd4",
   "metadata": {},
   "outputs": [],
   "source": [
    "x"
   ]
  },
  {
   "cell_type": "code",
   "execution_count": null,
   "id": "5ae224ab",
   "metadata": {},
   "outputs": [],
   "source": [
    "x.ravel().ndim"
   ]
  },
  {
   "cell_type": "code",
   "execution_count": null,
   "id": "db8f2222",
   "metadata": {},
   "outputs": [],
   "source": [
    "import matplotlib.pyplot as plt\n",
    "plt.scatter(x,y)"
   ]
  },
  {
   "cell_type": "code",
   "execution_count": null,
   "id": "b71a8c4a",
   "metadata": {},
   "outputs": [],
   "source": [
    "from sklearn.linear_model import LinearRegression\n",
    "lr = LinearRegression()"
   ]
  },
  {
   "cell_type": "code",
   "execution_count": null,
   "id": "045eef6a",
   "metadata": {},
   "outputs": [],
   "source": [
    "lr.fit(x,y)\n",
    "print(lr.coef_)\n",
    "print(lr.intercept_)"
   ]
  },
  {
   "cell_type": "code",
   "execution_count": null,
   "id": "b1aca1b6",
   "metadata": {},
   "outputs": [],
   "source": [
    "plt.scatter(x,y)\n",
    "plt.plot(x,lr.predict(x),color = 'red')"
   ]
  },
  {
   "cell_type": "code",
   "execution_count": null,
   "id": "ddbc2d65",
   "metadata": {},
   "outputs": [],
   "source": [
    "y_pred= ((70.4521727*x)+0).reshape(4)"
   ]
  },
  {
   "cell_type": "code",
   "execution_count": null,
   "id": "cf2db464",
   "metadata": {},
   "outputs": [],
   "source": [
    "plt.scatter(x,y)\n",
    "plt.plot(x,lr.predict(x),color = 'red',label = \"OLS\")\n",
    "plt.plot(x,y_pred,color = \"green\",label = 'b =0')\n",
    "plt.legend()\n",
    "plt.show()"
   ]
  },
  {
   "cell_type": "code",
   "execution_count": null,
   "id": "e969c395",
   "metadata": {},
   "outputs": [],
   "source": [
    "m = 75.45\n",
    "# b= 0 \n",
    "loss_slope = -2 *np.sum(y - m*x.ravel()-b)\n",
    "loss_slope"
   ]
  },
  {
   "cell_type": "code",
   "execution_count": null,
   "id": "57b4d7ea",
   "metadata": {},
   "outputs": [],
   "source": [
    "lrn = 0.1\n",
    "\n",
    "step_size = loss_slope*lrn\n",
    "\n",
    "step_size\n",
    "b= b-step_size\n",
    "b"
   ]
  },
  {
   "cell_type": "code",
   "execution_count": null,
   "id": "3be3f45f",
   "metadata": {},
   "outputs": [],
   "source": [
    "y_pred1 = ((70.4521727 * x)+b).reshape(4)\n",
    "\n",
    "plt.scatter(x,y)\n",
    "plt.plot(x,lr.predict(x),color = 'red',label =\"OLS\")\n",
    "plt.plot(x,y_pred1,color = 'green',label= 'b = {}'.format(b))\n",
    "plt.plot(x,y_pred ,color= 'black',label = 'b=0')\n",
    "plt.legend()\n",
    "plt.show()"
   ]
  },
  {
   "cell_type": "code",
   "execution_count": null,
   "id": "7ade6f28",
   "metadata": {},
   "outputs": [],
   "source": [
    "b = -190\n",
    "m= 70.4521727\n",
    "lr = 0.01\n",
    "\n",
    "epochs = 100\n",
    "\n",
    "for i in range(epochs):\n",
    "    loss_slope = -2 *np.sum(y- m*x.ravel()-b)\n",
    "    b = b- (lr * loss_slope)\n",
    "    \n",
    "    y_pred = m* x+b\n",
    "    plt.plot(x,y_pred)\n",
    "print( b)  \n",
    "plt.scatter(x,y)"
   ]
  },
  {
   "cell_type": "code",
   "execution_count": null,
   "id": "e1ef53e8",
   "metadata": {},
   "outputs": [],
   "source": [
    "from sklearn.linear_model import SGDRegressor"
   ]
  },
  {
   "cell_type": "code",
   "execution_count": null,
   "id": "459114bf",
   "metadata": {},
   "outputs": [],
   "source": [
    "import numpy as np\n",
    "import "
   ]
  }
 ],
 "metadata": {
  "kernelspec": {
   "display_name": "Python 3 (ipykernel)",
   "language": "python",
   "name": "python3"
  },
  "language_info": {
   "codemirror_mode": {
    "name": "ipython",
    "version": 3
   },
   "file_extension": ".py",
   "mimetype": "text/x-python",
   "name": "python",
   "nbconvert_exporter": "python",
   "pygments_lexer": "ipython3",
   "version": "3.10.9"
  }
 },
 "nbformat": 4,
 "nbformat_minor": 5
}
