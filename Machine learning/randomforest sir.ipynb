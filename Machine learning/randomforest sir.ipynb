{
 "cells": [
  {
   "cell_type": "markdown",
   "id": "c349f924",
   "metadata": {},
   "source": [
    "# sir \n",
    "randomforestclassifier"
   ]
  },
  {
   "cell_type": "code",
   "execution_count": 14,
   "id": "3159c774",
   "metadata": {},
   "outputs": [],
   "source": [
    "import numpy as np\n",
    "from sklearn import datasets\n",
    "from sklearn.model_selection import train_test_split, cross_val_score\n",
    "from sklearn.ensemble import RandomForestClassifier"
   ]
  },
  {
   "cell_type": "code",
   "execution_count": 4,
   "id": "610456d0",
   "metadata": {},
   "outputs": [],
   "source": [
    "cancer = datasets.load_breast_cancer()"
   ]
  },
  {
   "cell_type": "code",
   "execution_count": 6,
   "id": "ab16de8b",
   "metadata": {},
   "outputs": [],
   "source": [
    "x = cancer.data\n",
    "y= cancer.target"
   ]
  },
  {
   "cell_type": "code",
   "execution_count": 7,
   "id": "0608d465",
   "metadata": {},
   "outputs": [],
   "source": [
    "x_train ,x_test,y_train,y_test = train_test_split(x,y,test_size=.20,random_state=78)"
   ]
  },
  {
   "cell_type": "code",
   "execution_count": 8,
   "id": "f9ed443d",
   "metadata": {},
   "outputs": [],
   "source": [
    "estimator_values = [10, 50 , 100, 200, 500]"
   ]
  },
  {
   "cell_type": "code",
   "execution_count": 15,
   "id": "87116643",
   "metadata": {},
   "outputs": [
    {
     "name": "stdout",
     "output_type": "stream",
     "text": [
      "Numner of Estimators: 10, Mean accuracy: 0.953846153846154\n",
      "Numner of Estimators: 50, Mean accuracy: 0.956043956043956\n",
      "Numner of Estimators: 100, Mean accuracy: 0.964835164835165\n",
      "Numner of Estimators: 200, Mean accuracy: 0.9604395604395604\n",
      "Numner of Estimators: 500, Mean accuracy: 0.9626373626373628\n"
     ]
    }
   ],
   "source": [
    "for n_estimators in estimator_values:\n",
    "    rf_classifier = RandomForestClassifier(n_estimators= n_estimators, random_state= 44)\n",
    "    scores = cross_val_score(rf_classifier,x_train, y_train, cv= 5)\n",
    "    mean_accuracy = np.mean(scores)\n",
    "    print(f\"Numner of Estimators: {n_estimators}, Mean accuracy: {mean_accuracy}\")"
   ]
  },
  {
   "cell_type": "code",
   "execution_count": null,
   "id": "a5477887",
   "metadata": {},
   "outputs": [],
   "source": []
  }
 ],
 "metadata": {
  "kernelspec": {
   "display_name": "Python 3 (ipykernel)",
   "language": "python",
   "name": "python3"
  },
  "language_info": {
   "codemirror_mode": {
    "name": "ipython",
    "version": 3
   },
   "file_extension": ".py",
   "mimetype": "text/x-python",
   "name": "python",
   "nbconvert_exporter": "python",
   "pygments_lexer": "ipython3",
   "version": "3.10.9"
  }
 },
 "nbformat": 4,
 "nbformat_minor": 5
}
